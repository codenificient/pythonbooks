{
 "cells": [
  {
   "cell_type": "markdown",
   "id": "4f3007f8",
   "metadata": {},
   "source": [
    "## Welcome to Python Course"
   ]
  },
  {
   "cell_type": "code",
   "execution_count": 13,
   "id": "4cb912ae",
   "metadata": {},
   "outputs": [],
   "source": [
    "class Student:\n",
    "    def __init__(self, name, age, marks):\n",
    "        self.name = name\n",
    "        self.age = age\n",
    "        self.marks = marks\n",
    "        \n",
    "    def create_user(self,name):\n",
    "        self.name = name\n",
    "    \n",
    "    def __str__(self):\n",
    "        return str(self.name + \" is \" + str(self.age) + \" years old and has \" + str(self.marks) + \"% this semester\")"
   ]
  },
  {
   "cell_type": "code",
   "execution_count": 14,
   "id": "59344ce6",
   "metadata": {},
   "outputs": [
    {
     "name": "stdout",
     "output_type": "stream",
     "text": [
      "Mark is 24 years old and has 89% this semester\n"
     ]
    }
   ],
   "source": [
    "s1 = Student(\"Mark\", 24,89)\n",
    "print(s1)"
   ]
  },
  {
   "cell_type": "code",
   "execution_count": null,
   "id": "5d80315f",
   "metadata": {},
   "outputs": [],
   "source": []
  }
 ],
 "metadata": {
  "kernelspec": {
   "display_name": "Python 3 (ipykernel)",
   "language": "python",
   "name": "python3"
  },
  "language_info": {
   "codemirror_mode": {
    "name": "ipython",
    "version": 3
   },
   "file_extension": ".py",
   "mimetype": "text/x-python",
   "name": "python",
   "nbconvert_exporter": "python",
   "pygments_lexer": "ipython3",
   "version": "3.9.7"
  }
 },
 "nbformat": 4,
 "nbformat_minor": 5
}
