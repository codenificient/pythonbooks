{
 "nbformat": 4,
 "nbformat_minor": 0,
 "metadata": {
  "colab": {
   "name": "keras.ipynb",
   "provenance": [],
   "authorship_tag": "ABX9TyNgI9n6vkETZ/uoW6S/Q5Ad"
  },
  "kernelspec": {
   "name": "python3",
   "display_name": "Python 3"
  }
 },
 "cells": [
  {
   "cell_type": "markdown",
   "metadata": {
    "id": "xEDb3ev_RhO5",
    "colab_type": "text"
   },
   "source": [
    "# **Import Keras**"
   ]
  },
  {
   "cell_type": "markdown",
   "metadata": {
    "id": "p0FuXMqVSUrO",
    "colab_type": "text"
   },
   "source": [
    "**Importing Keras the old way**"
   ]
  },
  {
   "cell_type": "code",
   "metadata": {
    "id": "B3y6eAXIPqfC",
    "colab_type": "code",
    "colab": {},
    "executionInfo": {
     "status": "ok",
     "timestamp": 1600047416998,
     "user_tz": 240,
     "elapsed": 2931,
     "user": {
      "displayName": "Christian Tioye",
      "photoUrl": "https://lh3.googleusercontent.com/a-/AOh14Gir5Gkxj-TFFaDH7fb7yDYPu-XNGn-XO-nQET0j=s64",
      "userId": "12755735030226588247"
     }
    }
   },
   "source": [
    "import keras\n",
    "from keras.models import Sequential\n",
    "from keras.layers import Flatten, Dense, Activation\n",
    "\n",
    "model = Sequential()\n",
    "model.add(Flatten(input_shape=[28, 28]))\n",
    "model.add(Dense(100, activation=\"relu\"))\n",
    "model.add(Dense(10, activation=\"softmax\"))"
   ],
   "execution_count": 1,
   "outputs": []
  },
  {
   "cell_type": "markdown",
   "metadata": {
    "id": "OnM3aPadSFlT",
    "colab_type": "text"
   },
   "source": [
    "**Importing Keras through Tensorflow**"
   ]
  },
  {
   "cell_type": "code",
   "metadata": {
    "id": "EW7lnE2_Qo57",
    "colab_type": "code",
    "colab": {},
    "executionInfo": {
     "status": "ok",
     "timestamp": 1600047534236,
     "user_tz": 240,
     "elapsed": 884,
     "user": {
      "displayName": "Christian Tioye",
      "photoUrl": "https://lh3.googleusercontent.com/a-/AOh14Gir5Gkxj-TFFaDH7fb7yDYPu-XNGn-XO-nQET0j=s64",
      "userId": "12755735030226588247"
     }
    }
   },
   "source": [
    "from tensorflow import keras\n",
    "\n",
    "model = keras.Sequential([\n",
    "                          keras.layers.Dense(10, input_shape=(794,), activation='sigmoid')\n",
    "])"
   ],
   "execution_count": 2,
   "outputs": []
  },
  {
   "cell_type": "markdown",
   "metadata": {
    "id": "UqljbbfBRAnk",
    "colab_type": "text"
   },
   "source": [
    "##  **Learn how to use Tensorflow**"
   ]
  },
  {
   "cell_type": "code",
   "metadata": {
    "id": "wDeONRzzRvg0",
    "colab_type": "code",
    "colab": {}
   },
   "source": [],
   "execution_count": null,
   "outputs": []
  }
 ]
}
